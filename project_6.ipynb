{
 "cells": [
  {
   "cell_type": "markdown",
   "metadata": {},
   "source": [
    "# Project 6 Linear Regression\n",
    "Jensen Judkins, Samuel McMillan"
   ]
  },
  {
   "cell_type": "code",
   "execution_count": null,
   "metadata": {},
   "outputs": [],
   "source": [
    "#Imports\n",
    "import pandas as pd\n",
    "import numpy as np\n",
    "import matplotlib.pyplot as plt\n",
    "import seaborn as sns"
   ]
  },
  {
   "cell_type": "code",
   "execution_count": null,
   "metadata": {},
   "outputs": [],
   "source": [
    "#Read in the data\n",
    "df = pd.read_csv(\"RRCA_baseflow.csv\")\n"
   ]
  },
  {
   "cell_type": "markdown",
   "metadata": {},
   "source": [
    "Below sets the date according to the offset given in the assignment description. Adds columns for year, month, day, and date which is the full date in the format of year-month-day."
   ]
  },
  {
   "cell_type": "code",
   "execution_count": null,
   "metadata": {},
   "outputs": [],
   "source": [
    "#Offsetting the days\n",
    "#Date has some idiosyncrasies. Take make it easier to work with, subtract 693963 from the value. The new value is the number of days since Jan 1, 1900.\n",
    "offset = 693963\n",
    "df['days_since_1900'] = df['Date'] - offset\n",
    "\n",
    "#add month, year, and day columns\n",
    "pd.period_range(\"1215-01-01\", \"1381-01-01\", freq=\"D\")\n",
    "period = pd.Period('1900-1-1', freq='D') - pd.Period('0001-2-1', freq='D')\n",
    "#period\n",
    "df['days_since_1900'] = df.Date - offset\n",
    "df['date'] = pd.to_datetime(df.days_since_1900.astype('int'), unit='D', origin=pd.Timestamp('1900-01-01'))\n",
    "#display(df.head(2))\n",
    "df.loc[0,'date'].month\n",
    "df['year'] = df.date.apply(lambda x:pd.to_datetime(x).year)\n",
    "df['month'] = df.date.apply(lambda x:pd.to_datetime(x).month)\n",
    "df['day'] = df.date.apply(lambda x:pd.to_datetime(x).day)\n",
    "\n",
    "df.head()\n"
   ]
  },
  {
   "cell_type": "code",
   "execution_count": null,
   "metadata": {},
   "outputs": [],
   "source": [
    "# Visualize the relationship between the features and the response using scatterplots\n",
    "fig, axs = plt.subplots(1, 4, sharey=True, figsize=(20, 6))\n",
    "df.plot(kind='scatter', x='Date', y='Observed', ax=axs[0])\n",
    "df.plot(kind='scatter', x='Evapotranspiration', y='Observed', ax=axs[1])\n",
    "df.plot(kind='scatter', x='Precipitation', y='Observed', ax=axs[2])\n",
    "df.plot(kind='scatter', x='Irrigation_pumping', y='Observed', ax=axs[3])"
   ]
  },
  {
   "cell_type": "code",
   "execution_count": null,
   "metadata": {},
   "outputs": [],
   "source": []
  }
 ],
 "metadata": {
  "kernelspec": {
   "display_name": "Python 3 (ipykernel)",
   "language": "python",
   "name": "python3"
  },
  "language_info": {
   "codemirror_mode": {
    "name": "ipython",
    "version": 3
   },
   "file_extension": ".py",
   "mimetype": "text/x-python",
   "name": "python",
   "nbconvert_exporter": "python",
   "pygments_lexer": "ipython3",
   "version": "3.9.12"
  }
 },
 "nbformat": 4,
 "nbformat_minor": 2
}
