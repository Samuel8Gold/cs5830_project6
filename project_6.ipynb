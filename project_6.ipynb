{
 "cells": [
  {
   "cell_type": "markdown",
   "metadata": {},
   "source": [
    "# Project 6 Linear Regression\n",
    "Jensen Judkins, Samuel McMillan"
   ]
  },
  {
   "cell_type": "code",
   "execution_count": null,
   "metadata": {},
   "outputs": [],
   "source": [
    "#Imports\n",
    "import pandas as pd\n",
    "import numpy as np\n",
    "import matplotlib.pyplot as plt\n",
    "import seaborn as sns\n",
    "from sklearn.linear_model import LinearRegression\n",
    "from sklearn.model_selection import train_test_split"
   ]
  },
  {
   "cell_type": "code",
   "execution_count": null,
   "metadata": {},
   "outputs": [],
   "source": [
    "#Read in the data\n",
    "df = pd.read_csv(\"RRCA_baseflow.csv\")\n"
   ]
  },
  {
   "cell_type": "markdown",
   "metadata": {},
   "source": [
    "Below sets the date according to the offset given in the assignment description. Adds columns for year, month, day, and date which is the full date in the format of year-month-day."
   ]
  },
  {
   "cell_type": "code",
   "execution_count": null,
   "metadata": {},
   "outputs": [],
   "source": [
    "#Offsetting the days\n",
    "#Date has some idiosyncrasies. Take make it easier to work with, subtract 693963 from the value. The new value is the number of days since Jan 1, 1900.\n",
    "offset = 693963\n",
    "df['days_since_1900'] = df['Date'] - offset\n",
    "\n",
    "#add month, year, and day columns\n",
    "pd.period_range(\"1215-01-01\", \"1381-01-01\", freq=\"D\")\n",
    "period = pd.Period('1900-1-1', freq='D') - pd.Period('0001-2-1', freq='D')\n",
    "#period\n",
    "df['days_since_1900'] = df.Date - offset\n",
    "df['date'] = pd.to_datetime(df.days_since_1900.astype('int'), unit='D', origin=pd.Timestamp('1900-01-01'))\n",
    "#display(df.head(2))\n",
    "df.loc[0,'date'].month\n",
    "df['year'] = df.date.apply(lambda x:pd.to_datetime(x).year)\n",
    "df['month'] = df.date.apply(lambda x:pd.to_datetime(x).month)\n",
    "df['day'] = df.date.apply(lambda x:pd.to_datetime(x).day)\n",
    "\n",
    "df.head()\n",
    "correlation_matrix = df[['Date', 'Segment_id', 'x', 'y', 'Evapotranspiration', 'Precipitation', 'Irrigation_pumping', 'Observed']].corr()\n",
    "sns.heatmap(correlation_matrix, annot=True, cmap='coolwarm', fmt=\".2f\")\n",
    "plt.title('Correlation Matrix')\n",
    "plt.show()\n"
   ]
  },
  {
   "cell_type": "code",
   "execution_count": null,
   "metadata": {
    "scrolled": true
   },
   "outputs": [],
   "source": [
    "# Visualize the relationship between the features and the response using scatterplots\n",
    "fig, axs = plt.subplots(1, 4, sharey=True, figsize=(20, 6))\n",
    "df.plot(kind='scatter', x='Date', y='Observed', ax=axs[0])\n",
    "df.plot(kind='scatter', x='Evapotranspiration', y='Observed', ax=axs[1])\n",
    "df.plot(kind='scatter', x='Precipitation', y='Observed', ax=axs[2])\n",
    "df.plot(kind='scatter', x='Irrigation_pumping', y='Observed', ax=axs[3])"
   ]
  },
  {
   "cell_type": "markdown",
   "metadata": {},
   "source": [
    "## Prepare Irrigation Pumping For Linear Regression"
   ]
  },
  {
   "cell_type": "code",
   "execution_count": null,
   "metadata": {},
   "outputs": [],
   "source": [
    "df = df[df[\"Irrigation_pumping\"] <= 0]\n",
    "# Visualize the relationship between the features and the response using scatterplots\n",
    "df.plot(kind='scatter', x='Irrigation_pumping', y='Observed')\n",
    "df = df[df[\"Irrigation_pumping\"] < 0]\n",
    "# Visualize the relationship between the features and the response using scatterplots\n",
    "fig, axs = plt.subplots(1, 4, sharey=True, figsize=(20, 6))\n",
    "df.plot(kind='scatter', x='Precipitation', y='Observed', ax=axs[0])\n",
    "df.plot(kind='scatter', x='Evapotranspiration', y='Observed', ax=axs[1])\n",
    "df.plot(kind='scatter', x='Precipitation', y='Observed', ax=axs[2])\n",
    "df.plot(kind='scatter', x='Irrigation_pumping', y='Observed', ax=axs[3])"
   ]
  },
  {
   "cell_type": "code",
   "execution_count": null,
   "metadata": {},
   "outputs": [],
   "source": [
    "# create X and y\n",
    "feature_cols = ['Irrigation_pumping']\n",
    "X = df[feature_cols]\n",
    "y = df.Observed"
   ]
  },
  {
   "cell_type": "code",
   "execution_count": null,
   "metadata": {},
   "outputs": [],
   "source": []
  },
  {
   "cell_type": "code",
   "execution_count": null,
   "metadata": {},
   "outputs": [],
   "source": [
    "def cross_validate(X, Y, num_iter=10, columns=None):\n",
    "    rSquaredValues = []\n",
    "    if columns is None:\n",
    "        columns = list(X.columns)\n",
    "    for i in range(num_iter):\n",
    "        X_train, X_test, y_train, y_test = train_test_split(X, Y, test_size=0.15)\n",
    "        lm = LinearRegression()\n",
    "        lm.fit(X_train, y_train)\n",
    "        r_squared_test = lm.score(X_test, y_test)\n",
    "        print(\"R-squared on test set: \", r_squared_test, \"For \", columns)\n",
    "#         X_new = pd.DataFrame({'Irrigation_pumping': [df.Irrigation_pumping.min(), df.Irrigation_pumping.max()]})\n",
    "#         # first, plot the observed data\n",
    "#         df.plot(kind='scatter', x=columns[0], y='Observed')\n",
    "#         preds = lm.predict(X_new)\n",
    "#         # then, plot the least squares line\n",
    "#         plt.plot(X_new, predictions, c='red', linewidth=2)\n",
    "#         plt.show()"
   ]
  },
  {
   "cell_type": "code",
   "execution_count": null,
   "metadata": {},
   "outputs": [],
   "source": [
    "cross_validate(X,y,columns=[\"Irrigation_pumping\"])\n",
    "cross_validate(X,y,columns=[\"Evapotranspiration\"])\n",
    "cross_validate(X,y,columns=[\"Precipitation\"])\n",
    "cross_validate(X,y,columns=[\"Date\"])"
   ]
  },
  {
   "cell_type": "code",
   "execution_count": null,
   "metadata": {},
   "outputs": [],
   "source": [
    "df.Irrigation_pumping.max()"
   ]
  },
  {
   "cell_type": "code",
   "execution_count": null,
   "metadata": {},
   "outputs": [],
   "source": [
    "#Second analysis so we are clean starting here\n",
    "\n",
    "\n",
    "\n",
    "#Read in the data\n",
    "df = pd.read_csv(\"RRCA_baseflow.csv\")\n",
    "\n",
    "#create another column named \"Baseflow\" which is just a copy of \"Observed\"\n",
    "df['Baseflow'] = df['Observed']\n",
    "\n",
    "#Offsetting the days\n",
    "#Date has some idiosyncrasies. Take make it easier to work with, subtract 693963 from the value. The new value is the number of days since Jan 1, 1900.\n",
    "offset = 693963\n",
    "df['days_since_1900'] = df['Date'] - offset\n",
    "\n",
    "#add month, year, and day columns\n",
    "pd.period_range(\"1215-01-01\", \"1381-01-01\", freq=\"D\")\n",
    "period = pd.Period('1900-1-1', freq='D') - pd.Period('0001-2-1', freq='D')\n",
    "#period\n",
    "df['days_since_1900'] = df.Date - offset\n",
    "df['date'] = pd.to_datetime(df.days_since_1900.astype('int'), unit='D', origin=pd.Timestamp('1900-01-01'))\n",
    "#display(df.head(2))\n",
    "df.loc[0,'date'].month\n",
    "df['year'] = df.date.apply(lambda x:pd.to_datetime(x).year)\n",
    "df['month'] = df.date.apply(lambda x:pd.to_datetime(x).month)\n",
    "df['day'] = df.date.apply(lambda x:pd.to_datetime(x).day)\n",
    "df['week'] = df.date.apply(lambda x:pd.to_datetime(x).week)\n",
    "\n",
    "df.head()\n"
   ]
  },
  {
   "cell_type": "code",
   "execution_count": null,
   "metadata": {},
   "outputs": [],
   "source": [
    "#More scatterplots for analysis\n",
    "\n",
    "\n",
    "#Scatterplot of baseflow and Segment_id\n",
    "plt.scatter(df['Segment_id'], df['Baseflow'], s=1)\n",
    "plt.xlabel('Segment_id')\n",
    "plt.ylabel('Baseflow')\n",
    "plt.title('Baseflow over Segment_id')\n",
    "plt.show()\n",
    "\n",
    "#Scatterplot of baseflow and Date\n",
    "plt.scatter(df['Date'], df['Baseflow'], s=1)\n",
    "plt.xlabel('Date')\n",
    "plt.ylabel('Baseflow')\n",
    "plt.title('Baseflow over Date')\n",
    "plt.show()\n",
    "\n",
    "#Scatterplot of baseflow and y\n",
    "plt.scatter(df['y'], df['Baseflow'], s=1)\n",
    "plt.xlabel('y')\n",
    "plt.ylabel('Baseflow')\n",
    "plt.title('Baseflow over y')\n",
    "plt.show()\n",
    "\n",
    "\n",
    "#Scatterplot of baseflow and x\n",
    "plt.scatter(df['x'], df['Baseflow'], s=1)\n",
    "plt.xlabel('x')\n",
    "plt.ylabel('Baseflow')\n",
    "plt.title('Baseflow over x')\n",
    "plt.show()\n",
    "\n",
    "#Scatterplot of baseflow and Precipitation\n",
    "plt.scatter(df['Precipitation'], df['Baseflow'], s=1)\n",
    "plt.xlabel('Precipitation')\n",
    "plt.ylabel('Baseflow')\n",
    "plt.title('Baseflow over Precipitation')\n",
    "plt.show()\n",
    "\n",
    "#Scatterplot of baseflow and Irrigation_pumping\n",
    "plt.scatter(df['Irrigation_pumping'], df['Baseflow'], s=1)\n",
    "plt.xlabel('Irrigation_pumping')\n",
    "plt.ylabel('Baseflow')\n",
    "plt.title('Baseflow over Irrigation_pumping')\n",
    "plt.show()\n",
    "\n",
    "\n"
   ]
  },
  {
   "cell_type": "code",
   "execution_count": null,
   "metadata": {},
   "outputs": [],
   "source": [
    "#return the largest (with respect to baseflow) unique values so that we can remove them from the dataset\n",
    "\n",
    "#df.groupby('x').Baseflow.max().sort_values(ascending=False).head(10)\n",
    "#df.groupby('y').Baseflow.max().sort_values(ascending=False).head(10)\n"
   ]
  },
  {
   "cell_type": "code",
   "execution_count": null,
   "metadata": {},
   "outputs": [],
   "source": [
    "#Linear regression\n",
    "from sklearn.linear_model import LinearRegression\n",
    "from sklearn.model_selection import train_test_split\n",
    "from sklearn.metrics import mean_squared_error\n",
    "\n",
    "#Create a linear regression model\n",
    "model = LinearRegression()\n",
    "\n",
    "#Create a training dataset with only x values being NOT 1941550 or NOT 1630030\n",
    "\n",
    "new_df_test = df[(df['x'] != 1941550) & (df['x'] != 1630030)]\n",
    "\n",
    "#Multiple feature linear regression\n",
    "new_df_test.plot.scatter( x='days_since_1900', y='Baseflow')\n",
    "new_df_test.plot.scatter( x='week', y='Baseflow')\n",
    "new_df_test.plot.scatter( x='month', y='Baseflow')\n",
    "new_df_test.plot.scatter( x='year', y='Baseflow')\n",
    "plt.show()"
   ]
  },
  {
   "cell_type": "code",
   "execution_count": null,
   "metadata": {},
   "outputs": [],
   "source": [
    "#Linear regression\n",
    "from sklearn.linear_model import LinearRegression\n",
    "from sklearn.model_selection import train_test_split\n",
    "from sklearn.metrics import mean_squared_error\n",
    "\n",
    "#Create a linear regression model\n",
    "model = LinearRegression()\n",
    "\n",
    "#Create a training dataset\n",
    "\n",
    "#Make sure y doesnt contain any of these values\n",
    "# 14524320    747.803280\n",
    "# 14550720    712.557380\n",
    "# 14614080    206.909836\n",
    "# 14571840    204.830508\n",
    "# 14666880    180.736890\n",
    "# 14672160    112.504839\n",
    "\n",
    "#Make sure x doesnt contain any of these values\n",
    "# 1941550    747.803280\n",
    "# 1630030    712.557380\n",
    "# 1128430    206.909836\n",
    "# 970030     204.830508\n",
    "# 1049230    180.736890\n",
    "# 927790     138.676230\n",
    "# 1022830    112.504839\n",
    "\n",
    "#only include datapoinst in which precipitation is not 0\n",
    "\n",
    "\n",
    "new_df = df[((df['Precipitation'] != 0) & (df['x'] != 1941550) & (df['x'] != 1630030) & (df['y'] != 14524320) & (df['y'] != 14550720) & (df['y'] != 14614080) & (df['y'] != 14571840) & (df['y'] != 14666880) & (df['y'] != 14672160) & (df['x'] != 1128430) & (df['x'] != 970030) & (df['x'] != 1049230) & (df['x'] != 927790) & (df['x'] != 1022830) & (df['x'] != 1128430) & (df['x'] != 970030) & (df['x'] != 1049230) & (df['x'] != 927790) & (df['x'] != 1022830) & (df['x'] != 1128430) & (df['x'] != 970030) & (df['x'] != 1049230) & (df['x'] != 927790) & (df['x'] != 1022830) & (df['x'] != 1128430) & (df['x'] != 970030) & (df['x'] != 1049230) & (df['x'] != 927790) & (df['x'] != 1022830) & (df['x'] != 1128430) & (df['x'] != 970030) & (df['x'] != 1049230) & (df['x'] != 927790) & (df['x'] != 1022830) & (df['x'] != 1128430) & (df['x'] != 970030) & (df['x'] != 1049230) & (df['x'] != 927790) & (df['x'] != 1022830) & (df['x'] != 1128430) & (df['x'] != 970030) & (df['x'] != 1049230) & (df['x'] != 927790) & (df['x'] != 1022830) & (df['x'] != 1128430) & (df['x'] != 970030) & (df['x'] != 1049230) & (df['x'] != 927790) & (df['x'] != 1022830) & (df['x'] != 1128430) & (df['x'] != 970030) & (df['x'] != 1049230) & (df['x'] != 927790) & (df['x'] != 1022830) & (df['x'] != 1128430) & (df['x'] != 970030) & (df['x'] != 1049230) & (df['x'] != 927790) & (df['x'] != 1022830) & (df['x'] != 1128430) & (df['x'] != 970030) & (df['x'] != 1049230) & (df['x'] != 927790) & (df['x'] != 1022830) & (df['x'] != 1128430) & (df['x'] != 970030) & (df['x'] != 1049230) & (df['x'] != 927790) & (df['x'] != 1022830) & (df['x'] != 1128430) & (df['x'] != 970030) & (df['x'] != 1049230) & (df['x'] != 927790) & (df['x'] != 1022830) & (df['x'] != 1128430) & (df['x'] != 970030) & (df['x'] != 1049230) & (df['x'] != 927790) & (df['x'] != 1022830) & (df['x'] != 1128430) & (df['x'] != 970030) & (df['x'] != 1049230) & (df['x'] != 927790) & (df['x'] != 1022830) & (df['x'] != 1128430) & (df['x'] != 970030) & (df['x'] != 1049230) & (df['x'] != 927790) & (df['x'] != 1022830) & (df['x'] != 1128430) & (df['x'] != 970030))]\n",
    "\n",
    "\n",
    "#Multiple feature linear regression\n",
    "feature_cols = ['week','year', 'Segment_id', 'Evapotranspiration']\n",
    "X = new_df[feature_cols]\n",
    "y = new_df.Observed\n",
    "\n",
    "\n",
    "#Train the model\n",
    "X_train, X_test, y_train, y_test = train_test_split(X, y, test_size=0.2)\n",
    "model.fit(X_train, y_train)\n",
    "\n",
    "#Make predictions\n",
    "y_pred = model.predict(X_test)\n",
    "\n",
    "#Calculate the mean squared error\n",
    "mse = mean_squared_error(y_test, y_pred)\n",
    "print('Mean Squared Error: ', mse)\n",
    "\n",
    "#Print the coefficients\n",
    "print('Coefficients: ', model.coef_)\n",
    "print('Intercept: ', model.intercept_)\n",
    "print('R^2: ', model.score(X_test, y_test))\n",
    "\n",
    "#Plot observed vs predicted and the line of best fit\n",
    "plt.scatter(y_test, y_pred, s=1)\n",
    "plt.xlabel('Observed')\n",
    "plt.ylabel('Predicted')\n",
    "plt.title('Observed vs Predicted')\n",
    "plt.plot([0, 30], [0, 30], color='red')\n",
    "\n",
    "#Add to the plot 95% confidence intervals\n",
    "plt.plot([0, 30], [0, 30], color='red')\n",
    "plt.plot([0, 30], [0, 30+1.96*np.sqrt(mse)], color='red', linestyle='dashed')\n",
    "plt.plot([0, 30], [0, 30-1.96*np.sqrt(mse)], color='red', linestyle='dashed')\n",
    "plt.show()\n",
    "\n",
    "#Hypothesis testing with p-values\n",
    "import statsmodels.api as sm\n",
    "\n",
    "X = sm.add_constant(X)\n",
    "model = sm.OLS(y, X).fit()\n",
    "model.summary()\n",
    "\n",
    "\n"
   ]
  }
 ],
 "metadata": {
  "kernelspec": {
   "display_name": "Python 3 (ipykernel)",
   "language": "python",
   "name": "python3"
  },
  "language_info": {
   "codemirror_mode": {
    "name": "ipython",
    "version": 3
   },
   "file_extension": ".py",
   "mimetype": "text/x-python",
   "name": "python",
   "nbconvert_exporter": "python",
   "pygments_lexer": "ipython3",
   "version": "3.10.1"
  }
 },
 "nbformat": 4,
 "nbformat_minor": 2
}
